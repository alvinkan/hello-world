{
 "cells": [
  {
   "cell_type": "markdown",
   "metadata": {},
   "source": [
    "# Word and phrase frequency count using nltk library"
   ]
  },
  {
   "cell_type": "code",
   "execution_count": 2,
   "metadata": {},
   "outputs": [],
   "source": [
    "#import libraries\n",
    "from nltk import FreqDist, ngrams, word_tokenize\n",
    "import pandas as pd"
   ]
  },
  {
   "cell_type": "code",
   "execution_count": 3,
   "metadata": {},
   "outputs": [
    {
     "name": "stdout",
     "output_type": "stream",
     "text": [
      "         phrase_concat  count\n",
      "20                 the   18.0\n",
      "16              Talent   13.0\n",
      "13                  to   11.0\n",
      "23                 and   10.0\n",
      "4                    a    7.0\n",
      "63                  of    7.0\n",
      "17            Insights    5.0\n",
      "40                year    5.0\n",
      "2                    ’    5.0\n",
      "74                team    5.0\n",
      "31                  in    5.0\n",
      "106               from    5.0\n",
      "135                for    5.0\n",
      "35             Connect    4.0\n",
      "78                this    4.0\n",
      "130              their    4.0\n",
      "159  poweredbyinsights    4.0\n",
      "1                 that    4.0\n",
      "43                  is    4.0\n",
      "3                    s    4.0\n",
      "           phrase_concat  count\n",
      "2                    ’ s    4.0\n",
      "40        Talent Connect    4.0\n",
      "16       Talent Insights    4.0\n",
      "254  # poweredbyinsights    4.0\n",
      "270       # TalentAwards    3.0\n",
      "208            for their    3.0\n",
      "147           the Talent    3.0\n",
      "298        Talent Awards    3.0\n",
      "47             next year    2.0\n",
      "8                   . It    2.0\n",
      "268             the MENA    2.0\n",
      "256                  . I    2.0\n",
      "255  poweredbyinsights .    2.0\n",
      "21            main stage    2.0\n",
      "247              for the    2.0\n",
      "242               a team    2.0\n",
      "44   # PoweredByInsights    2.0\n",
      "229              the way    2.0\n",
      "39              . Talent    2.0\n",
      "152               year ,    2.0\n",
      "             phrase_concat  count\n",
      "39        . Talent Connect    2.0\n",
      "52     Talent Connect 2018    2.0\n",
      "272  # poweredbyinsights .    2.0\n",
      "273  poweredbyinsights . .    2.0\n",
      "               phrase_concat  count\n",
      "276  # poweredbyinsights . .    2.0\n",
      "277  poweredbyinsights . . .    2.0\n",
      "                 phrase_concat  count\n",
      "278  # poweredbyinsights . . .    2.0\n",
      "279  poweredbyinsights . . . .    2.0\n"
     ]
    }
   ],
   "source": [
    "#import list\n",
    "text_list = pd.read_csv(\"Updates.csv\")\n",
    "text_list = text_list.Posts.tolist()\n",
    "\n",
    "#join udpates into one giant text\n",
    "agg_text = \". . . . . \".join(text_list)\n",
    "\n",
    "#tokenize strings into words\n",
    "tokens = word_tokenize(agg_text)\n",
    "\n",
    "#frequency count of words and phrases of up to 5 words\n",
    "all_counts = dict()\n",
    "\n",
    "for size in 1, 2, 3, 4, 5:\n",
    "    all_counts[size] = FreqDist(ngrams(tokens, size))\n",
    "\n",
    "#def function to remove rows with punctuation\n",
    "import string \n",
    "def check_punc(s):\n",
    "    return all(i in string.punctuation for i in s)\n",
    "\n",
    "#initialise list\n",
    "freq=[]\n",
    "freq.append(0)\n",
    "\n",
    "#convert to dataframe and concat words into phrases\n",
    "for i in 1,2,3,4,5:\n",
    "    freq.append(pd.DataFrame(list(all_counts[i].items())) )   \n",
    "    freq[i].columns = ['phrase','count']\n",
    "    freq[i]['phrase_concat'] = freq[i]['phrase'].apply(lambda x: ' '.join(x))\n",
    "    freq[i]['punc_check'] = freq[i]['phrase'].apply(check_punc)\n",
    "\n",
    "#print rows for words or phrases of up to 5 words with frequency count\n",
    "for n in 1,2,3,4,5:\n",
    "    freq[n] = freq[n].where(freq[n]['count'] > 1).dropna()\n",
    "    freq[n] = freq[n].where(freq[n]['punc_check'] == False).dropna()\n",
    "    freq[n] = freq[n][['phrase_concat','count']].sort_values(by='count',ascending=False).head(20)\n",
    "    print(freq[n])"
   ]
  }
 ],
 "metadata": {
  "kernelspec": {
   "display_name": "Python 3",
   "language": "python",
   "name": "python3"
  },
  "language_info": {
   "codemirror_mode": {
    "name": "ipython",
    "version": 3
   },
   "file_extension": ".py",
   "mimetype": "text/x-python",
   "name": "python",
   "nbconvert_exporter": "python",
   "pygments_lexer": "ipython3",
   "version": "3.8.5"
  }
 },
 "nbformat": 4,
 "nbformat_minor": 2
}
